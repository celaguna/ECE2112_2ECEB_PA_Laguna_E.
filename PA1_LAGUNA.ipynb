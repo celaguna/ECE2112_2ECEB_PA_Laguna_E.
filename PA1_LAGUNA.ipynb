{
 "cells": [
  {
   "cell_type": "markdown",
   "id": "aa5a0208-d888-4fe1-b1be-2c37826ebe59",
   "metadata": {},
   "source": [
    "# PROGRAMMING ASSIGNMENT 1\n",
    "## LAGUNA, CARLVINZ E. \n",
    "### 2ECE-B\n",
    "### AUGUST 27, 2025"
   ]
  },
  {
   "cell_type": "markdown",
   "id": "36aaf5bd-b259-4327-9994-0e60adca8b7f",
   "metadata": {},
   "source": [
    "1. ALPHABET SOUP PROBLEM: Create a function that takes a string and returns a string with its letters in alphabetical order.\n",
    "\n",
    "Example: \n",
    "\n",
    "alphabet_soup(\"hello\") --> ehllo\n",
    "\n",
    "alphabet_soup(\"hacker\") --> acehkr"
   ]
  },
  {
   "cell_type": "code",
   "execution_count": 4,
   "id": "daf1a6b9-b92e-4b20-8a26-b3b569fe0338",
   "metadata": {},
   "outputs": [
    {
     "name": "stdout",
     "output_type": "stream",
     "text": [
      "ehllo\n",
      "acehkr\n"
     ]
    }
   ],
   "source": [
    "# Function definition: alphabet_soup takes a string input 'word'\n",
    "def alphabet_soup(word):\n",
    "    \n",
    "    # sorted(word) arranges the letters of 'word' in alphabetical order\n",
    "    # \"\".join(...) combines the sorted letters back into a single string\n",
    "    return \"\".join(sorted(word))\n",
    "\n",
    "# The word \"hello\" is passed to the function\n",
    "# Expected output: \"ehllo\"\n",
    "print(alphabet_soup(\"hello\"))\n",
    "\n",
    "# The word \"hacker\" is passed to the function\n",
    "# Expected output: \"acehkr\"\n",
    "print(alphabet_soup(\"hacker\"))"
   ]
  },
  {
   "cell_type": "markdown",
   "id": "48f915f3-0232-4d7f-8601-2b8f008f8a0d",
   "metadata": {},
   "source": [
    "2. EMOTICON SOUP PROBLEM: Create a function that changes specific words into emoticons. Given a sentence as a string, \n",
    "replace the words smile, grin, sad and mad with their corresponding emoticon\n",
    "\n",
    "Example: \n",
    "\n",
    "emotify(\"Make me smile\") --> Make me :)\n",
    "\n",
    "emotify(\"I am mad\") --> I am >:("
   ]
  },
  {
   "cell_type": "code",
   "execution_count": 5,
   "id": "4fde8331-dbc9-4efc-bc52-31d71e2efe1b",
   "metadata": {},
   "outputs": [
    {
     "name": "stdout",
     "output_type": "stream",
     "text": [
      "Make me :)\n",
      "Make me :D\n",
      "I am :((\n",
      "I am >:(\n"
     ]
    }
   ],
   "source": [
    "# Function definition: emotify takes a string input 'statement'\n",
    "def emotify(statement):\n",
    "\n",
    "    # Replace the word \"smile\" with its emoticon \":)\"\n",
    "    statement = statement.replace(\"smile\", \":)\")\n",
    "\n",
    "    # Replace the word \"grin\" with its emoticon \":D\"\n",
    "    statement = statement.replace(\"grin\", \":D\")\n",
    "\n",
    "    # Replace the word \"sad\" with its emoticon \":((\"\n",
    "    statement = statement.replace(\"sad\", \":((\")\n",
    "\n",
    "    # Replace the word \"mad\" with its emoticon \">:(\"\n",
    "    statement = statement.replace(\"mad\", \">:(\")\n",
    "\n",
    "    # Return the modified statement with any replaced words\n",
    "    return statement\n",
    "    \n",
    "# Test cases to show how the function works\n",
    "print(emotify(\"Make me smile\")) # Expected output: Make me :)\n",
    "print(emotify(\"Make me grin\")) # Expected output: Make me :D\n",
    "print(emotify(\"I am sad\")) # Expected output: I am :((\n",
    "print(emotify(\"I am mad\")) # Expected output: I am >:("
   ]
  },
  {
   "cell_type": "markdown",
   "id": "4be25be5-c27b-4ac3-af47-d2e191c64d11",
   "metadata": {},
   "source": [
    "3. UNPACKING LIST PROBLEM: Unpack the list writeyourcodehere into three variables, being first, middle, and last, with middle being\n",
    "everything in between the first and last element. Then print all three variables.\n",
    "\n",
    "Example: \n",
    "\n",
    "1st = [1, 2, 3, 4, 5, 6]\n",
    "\n",
    "Output: \n",
    "\n",
    "first: 1\n",
    "\n",
    "middle: [2, 3, 4, 5]\n",
    "\n",
    "last: 6"
   ]
  },
  {
   "cell_type": "code",
   "execution_count": 6,
   "id": "70e32365-4bdd-4d4b-80c8-e8d91a488349",
   "metadata": {},
   "outputs": [
    {
     "name": "stdout",
     "output_type": "stream",
     "text": [
      "first: 1\n",
      "middle: [2, 3, 4, 5]\n",
      "last: 6\n"
     ]
    }
   ],
   "source": [
    "# Function definition: unpack_list takes a list input 'lst'\n",
    "def unpack_list(lst):\n",
    "    \n",
    "    # Get the first element of the list\n",
    "    first = lst[0]\n",
    "\n",
    "    # Get all elements except the first and last (slicing from index 1 to -1)\n",
    "    middle = lst[1: -1]\n",
    "\n",
    "    # Get the last element of the list\n",
    "    last = lst[-1]\n",
    "\n",
    "    # Return the three parts as a tuple (first, middle, last)\n",
    "    return first, middle, last\n",
    "\n",
    "# Example list\n",
    "lst = [1, 2, 3, 4, 5, 6]\n",
    "\n",
    "# Call the function and unpack the result into three variables\n",
    "first, middle, last = unpack_list(lst)\n",
    "\n",
    "print(\"first:\", first) # Output: first: 1\n",
    "print(\"middle:\", middle) # Output: middle: [2, 3, 4, 5]\n",
    "print(\"last:\", last) # Output: last: 6"
   ]
  }
 ],
 "metadata": {
  "kernelspec": {
   "display_name": "Python [conda env:anaconda3] *",
   "language": "python",
   "name": "conda-env-anaconda3-py"
  },
  "language_info": {
   "codemirror_mode": {
    "name": "ipython",
    "version": 3
   },
   "file_extension": ".py",
   "mimetype": "text/x-python",
   "name": "python",
   "nbconvert_exporter": "python",
   "pygments_lexer": "ipython3",
   "version": "3.13.5"
  }
 },
 "nbformat": 4,
 "nbformat_minor": 5
}
